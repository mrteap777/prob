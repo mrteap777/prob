{
 "cells": [
  {
   "cell_type": "code",
   "execution_count": null,
   "metadata": {},
   "outputs": [],
   "source": [
    "import pandas as pd\n",
    "\n",
    "# Загрузка данных\n",
    "data = pd.read_csv('path_to_your_file.csv')\n",
    "\n",
    "# Общая загруженность станции\n",
    "station_load = data['станция'].value_counts()\n",
    "\n",
    "# Средняя пропускная способность\n",
    "average_capacity = station_load.mean()\n",
    "\n",
    "# Пропускная способность в процентах\n",
    "station_capacity_percent = (station_load / average_capacity) * 100\n",
    "\n",
    "# Количество входов и выходов на станции\n",
    "entry_count = data['станция входа'].value_counts()\n",
    "exit_count = data['станция выхода'].value_counts()\n",
    "\n",
    "# Преобразование времени в формат datetime\n",
    "data['время входа'] = pd.to_datetime(data['время входа'])\n",
    "data['время выхода'] = pd.to_datetime(data['время выхода'])\n",
    "\n",
    "# Временные интервалы поездки и продолжительность поездки\n",
    "data['длительность поездки'] = data['время выхода'] - data['время входа']\n",
    "average_trip_duration = data['длительность поездки'].mean()\n",
    "\n",
    "# Вывод результатов\n",
    "print(\"Общая загруженность станции:\")\n",
    "print(station_load)\n",
    "print(\"\\nПропускная способность в процентах:\")\n",
    "print(station_capacity_percent)\n",
    "print(\"\\nКоличество входов на станции:\")\n",
    "print(entry_count)\n",
    "print(\"\\nКоличество выходов на станции:\")\n",
    "print(exit_count)\n",
    "print(\"\\nСредняя продолжительность поездки:\")\n",
    "print(average_trip_duration)\n"
   ]
  }
 ],
 "metadata": {
  "language_info": {
   "name": "python"
  }
 },
 "nbformat": 4,
 "nbformat_minor": 2
}
