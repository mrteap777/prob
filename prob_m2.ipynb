{
 "cells": [
  {
   "cell_type": "markdown",
   "metadata": {},
   "source": [
    "Для своевременного принятия решения на основе данных, минимизации ошибок и быстрого достижения целей, необходимо построить аналитический дашборд. Интерактивная информационная панель должна наглядно представлять, визуализировать и анализировать данные. Для этого необходимо подключить к системе источник данных, т.е. подключиться к базе данных, настроить регламент обновления и уровни доступа.\n",
    "Аналитическая система должна позволить пользователю:\n",
    "–\tАвтоматизировать работу с данными;\n",
    "–\tАнализировать все в реальном времени;\n",
    "–\tВидеть все главные метрики на одном экране;\n",
    "–\tЛегко считывать информацию и делать выводы.\n"
   ]
  },
  {
   "cell_type": "code",
   "execution_count": null,
   "metadata": {},
   "outputs": [],
   "source": [
    "\n",
    "import sqlite3\n",
    "import pandas as pd\n",
    "\n",
    "# Подключение к базе данных\n",
    "conn = sqlite3.connect('metro_data.db')\n",
    "\n",
    "# Загрузка данных\n",
    "query = '''\n",
    "SELECT\n",
    "    t1.станция AS Станция,\n",
    "    t1.линия AS Линия,\n",
    "    t1.номер_билета AS Номер_билета,\n",
    "    t1.время_входа AS Время_входа,\n",
    "    t1.время_выхода AS Время_выхода,\n",
    "    (julianday(t1.время_выхода) - julianday(t1.время_входа)) * 1440 AS Продолжительность_поездки,\n",
    "    t2.среднее_время_ожидания AS Среднее_время_ожидания,\n",
    "    t2.уровень_комфорта AS Уровень_комфорта\n",
    "FROM поездки AS t1\n",
    "JOIN станция_инфо AS t2 ON t1.станция = t2.станция\n",
    "'''\n",
    "\n",
    "df = pd.read_sql_query(query, conn)\n",
    "\n",
    "# Закрытие соединения с базой данных\n",
    "conn.close()\n",
    "\n",
    "print(df.head())\n"
   ]
  },
  {
   "cell_type": "markdown",
   "metadata": {},
   "source": [
    "Создание интерактивного дашборда с Plotly Dash"
   ]
  },
  {
   "cell_type": "code",
   "execution_count": null,
   "metadata": {},
   "outputs": [],
   "source": [
    "import dash\n",
    "from dash import dcc, html\n",
    "import dash_table\n",
    "import plotly.express as px\n",
    "from dash.dependencies import Input, Output\n",
    "\n",
    "# Инициализация Dash-приложения\n",
    "app = dash.Dash(__name__)\n",
    "\n",
    "# Расчёт метрик\n",
    "total_load = df['Станция'].value_counts().reset_index()\n",
    "total_load.columns = ['Станция', 'Количество пассажиров']\n",
    "average_load = df['Станция'].value_counts().mean()\n",
    "df['Пропускная способность, %'] = df['Станция'].map(df['Станция'].value_counts() / average_load * 100)\n",
    "\n",
    "# Визуализации\n",
    "fig_load = px.bar(total_load, x='Станция', y='Количество пассажиров', title='Общая загруженность станций')\n",
    "fig_duration = px.histogram(df, x='Продолжительность_поездки', title='Распределение продолжительности поездок')\n",
    "\n",
    "# Макет Dash-приложения\n",
    "app.layout = html.Div([\n",
    "    html.H1(\"Аналитический дашборд метрополитена\"),\n",
    "\n",
    "    html.Div([\n",
    "        dcc.Graph(figure=fig_load),\n",
    "        dcc.Graph(figure=fig_duration),\n",
    "    ], style={'display': 'flex', 'flex-direction': 'row'}),\n",
    "\n",
    "    html.Div([\n",
    "        dash_table.DataTable(\n",
    "            id='table',\n",
    "            columns=[{\"name\": i, \"id\": i} for i in df.columns],\n",
    "            data=df.to_dict('records'),\n",
    "            page_size=10,\n",
    "        ),\n",
    "    ])\n",
    "])\n",
    "\n",
    "if __name__ == '__main__':\n",
    "    app.run_server(debug=True)\n"
   ]
  },
  {
   "cell_type": "markdown",
   "metadata": {},
   "source": [
    "Регламент обновления данных\n",
    "Для обновления данных можно использовать встроенные возможности Dash для периодического обновления данных. Например, с использованием dcc.Interval для автоматического обновления данных каждые несколько минут."
   ]
  },
  {
   "cell_type": "markdown",
   "metadata": {},
   "source": [
    "Уровни доступа\n",
    "Для управления доступом можно использовать такие инструменты как Flask-Login для создания авторизации и аутентификации пользователей."
   ]
  }
 ],
 "metadata": {
  "kernelspec": {
   "display_name": "Python 3",
   "language": "python",
   "name": "python3"
  },
  "language_info": {
   "codemirror_mode": {
    "name": "ipython",
    "version": 3
   },
   "file_extension": ".py",
   "mimetype": "text/x-python",
   "name": "python",
   "nbconvert_exporter": "python",
   "pygments_lexer": "ipython3",
   "version": "3.10.4"
  }
 },
 "nbformat": 4,
 "nbformat_minor": 2
}
