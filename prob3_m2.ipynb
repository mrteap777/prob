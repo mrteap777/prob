{
 "cells": [
  {
   "cell_type": "markdown",
   "metadata": {},
   "source": [
    "\n",
    "Чтобы создать аналитический дашборд на основе Streamlit с данными из базы данных PostgreSQL, необходимо выполнить следующие шаги:\n",
    "\n",
    "Настроить подключение к базе данных PostgreSQL.\n",
    "Создать и запустить Streamlit приложение.\n",
    "Визуализировать данные и создать интерактивные элементы.\n",
    "Шаг 1: Настройка подключения к базе данных PostgreSQL\n",
    "Перед началом убедитесь, что у вас установлены необходимые библиотеки: psycopg2, pandas, и streamlit.\n",
    "\n",
    "Установите библиотеки (если они еще не установлены):"
   ]
  },
  {
   "cell_type": "code",
   "execution_count": null,
   "metadata": {
    "vscode": {
     "languageId": "plaintext"
    }
   },
   "outputs": [],
   "source": [
    "pip install psycopg2-binary pandas streamlit\n"
   ]
  },
  {
   "cell_type": "markdown",
   "metadata": {},
   "source": [
    "Создание Streamlit приложения\n",
    "Создайте файл, например dashboard.py, и начните с импорта необходимых библиотек и настройки подключения к базе данных."
   ]
  },
  {
   "cell_type": "code",
   "execution_count": null,
   "metadata": {
    "vscode": {
     "languageId": "plaintext"
    }
   },
   "outputs": [],
   "source": [
    "\n",
    "import streamlit as st\n",
    "import pandas as pd\n",
    "import psycopg2\n",
    "from sqlalchemy import create_engine\n",
    "\n",
    "# Настройка подключения к базе данных PostgreSQL\n",
    "DB_HOST = 'your_db_host'\n",
    "DB_NAME = 'your_db_name'\n",
    "DB_USER = 'your_db_user'\n",
    "DB_PASS = 'your_db_password'\n",
    "\n",
    "# Создание подключения к базе данных\n",
    "@st.cache(allow_output_mutation=True)\n",
    "def get_db_connection():\n",
    "    engine = create_engine(f'postgresql+psycopg2://{DB_USER}:{DB_PASS}@{DB_HOST}/{DB_NAME}')\n",
    "    return engine\n",
    "\n",
    "# Загрузка данных из базы данных\n",
    "def load_data():\n",
    "    engine = get_db_connection()\n",
    "    query = \"SELECT * FROM your_table_name\"  # Измените на ваше название таблицы\n",
    "    df = pd.read_sql(query, engine)\n",
    "    return df\n",
    "\n",
    "# Основная функция для создания дашборда\n",
    "def main():\n",
    "    st.title(\"Аналитический дашборд\")\n",
    "\n",
    "    # Загрузка данных\n",
    "    df = load_data()\n",
    "\n",
    "    # Вычисление метрик\n",
    "    station_load = df['станция входа'].value_counts() + df['станция выхода'].value_counts()\n",
    "    average_capacity = station_load.mean()\n",
    "    station_capacity_percent = (station_load / average_capacity) * 100\n",
    "    entry_count = df['станция входа'].value_counts()\n",
    "    exit_count = df['станция выхода'].value_counts()\n",
    "    df['время входа'] = pd.to_datetime(df['время входа'])\n",
    "    df['время выхода'] = pd.to_datetime(df['время выхода'])\n",
    "    df['длительность поездки'] = df['время выхода'] - df['время входа']\n",
    "    average_trip_duration = df['длительность поездки'].mean()\n",
    "\n",
    "    # Отображение метрик\n",
    "    st.header(\"Основные метрики\")\n",
    "    st.metric(\"Средняя пропускная способность\", f\"{average_capacity:.2f}\")\n",
    "    st.metric(\"Средняя продолжительность поездки\", f\"{average_trip_duration}\")\n",
    "\n",
    "    # Визуализация данных\n",
    "    st.header(\"Загруженность станции\")\n",
    "    st.bar_chart(station_load)\n",
    "\n",
    "    st.header(\"Пропускная способность станции (%)\")\n",
    "    st.bar_chart(station_capacity_percent)\n",
    "\n",
    "    st.header(\"Количество входов на станции\")\n",
    "    st.bar_chart(entry_count)\n",
    "\n",
    "    st.header(\"Количество выходов на станции\")\n",
    "    st.bar_chart(exit_count)\n",
    "\n",
    "    # Отображение данных в таблице\n",
    "    st.header(\"Данные по поездкам\")\n",
    "    st.dataframe(df)\n",
    "\n",
    "if __name__ == \"__main__\":\n",
    "    main()\n"
   ]
  },
  {
   "cell_type": "markdown",
   "metadata": {},
   "source": [
    "Объяснение кода:\n",
    "Подключение к базе данных: Используем SQLAlchemy для подключения к PostgreSQL.\n",
    "Загрузка данных: Загрузка данных из базы данных и их кэширование с помощью @st.cache для улучшения производительности.\n",
    "Вычисление метрик: Вычисляем основные метрики, такие как загруженность станций, пропускная способность, количество входов и выходов, и среднюю продолжительность поездки.\n",
    "Визуализация данных: Используем Streamlit для создания заголовков, метрик и графиков для визуализации данных.\n",
    "Запуск приложения: Запускаем Streamlit приложение для отображения дашборда.\n",
    "С помощью этого подхода можно создать интерактивный аналитический дашборд, который будет автоматически загружать данные из базы данных PostgreSQL, обновляться в реальном времени и предоставлять удобные инструменты для анализа данных."
   ]
  }
 ],
 "metadata": {
  "kernelspec": {
   "display_name": "Python 3",
   "language": "python",
   "name": "python3"
  },
  "language_info": {
   "codemirror_mode": {
    "name": "ipython",
    "version": 3
   },
   "file_extension": ".py",
   "mimetype": "text/x-python",
   "name": "python",
   "nbconvert_exporter": "python",
   "pygments_lexer": "ipython3",
   "version": "3.10.4"
  }
 },
 "nbformat": 4,
 "nbformat_minor": 2
}
